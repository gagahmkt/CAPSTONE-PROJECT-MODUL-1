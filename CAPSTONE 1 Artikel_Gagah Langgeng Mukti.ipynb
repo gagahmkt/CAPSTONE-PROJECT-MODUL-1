{
 "cells": [
  {
   "cell_type": "code",
   "execution_count": 29,
   "metadata": {},
   "outputs": [
    {
     "name": "stdout",
     "output_type": "stream",
     "text": [
      "+-----------+-------+----------+\n",
      "| Name      |   Age | Gender   |\n",
      "+===========+=======+==========+\n",
      "| Anthony   |    24 | Male     |\n",
      "+-----------+-------+----------+\n",
      "| Brielle   |    23 | Female   |\n",
      "+-----------+-------+----------+\n",
      "| Catherine |    25 | Female   |\n",
      "+-----------+-------+----------+\n"
     ]
    }
   ],
   "source": [
    "from tabulate import tabulate\n",
    "\n",
    "data = [\n",
    "    ['Anthony', 24, 'Male'],\n",
    "    ['Brielle', 23, 'Female'],\n",
    "    ['Catherine', 25, 'Female']\n",
    "    ]\n",
    "\n",
    "print(tabulate(data, headers = ['Name', 'Age', 'Gender'], tablefmt = 'grid'))"
   ]
  },
  {
   "cell_type": "code",
   "execution_count": 30,
   "metadata": {},
   "outputs": [
    {
     "name": "stdout",
     "output_type": "stream",
     "text": [
      "+-----------+-------+----------+\n",
      "| Name      |  Age  | Gender   |\n",
      "+===========+=======+==========+\n",
      "| Anthony   |  24   | Male     |\n",
      "+-----------+-------+----------+\n",
      "| Brielle   |  23   | Female   |\n",
      "+-----------+-------+----------+\n",
      "| Catherine |  25   | Female   |\n",
      "+-----------+-------+----------+\n"
     ]
    }
   ],
   "source": [
    "# First row\n",
    "from tabulate import tabulate\n",
    "\n",
    "data = [\n",
    "    ['Name', 'Age', 'Gender'],\n",
    "    ['Anthony', 24, 'Male'],\n",
    "    ['Brielle', 23, 'Female'],\n",
    "    ['Catherine', 25, 'Female']\n",
    "    ]\n",
    "\n",
    "print(tabulate(data, headers = 'firstrow', tablefmt = 'grid', numalign= 'center'))"
   ]
  },
  {
   "cell_type": "code",
   "execution_count": 31,
   "metadata": {},
   "outputs": [
    {
     "name": "stdout",
     "output_type": "stream",
     "text": [
      "+-----------+-------+----------+\n",
      "| Name      |   Age | Gender   |\n",
      "+===========+=======+==========+\n",
      "| Anthony   |    24 | Male     |\n",
      "+-----------+-------+----------+\n",
      "| Brielle   |    23 | Female   |\n",
      "+-----------+-------+----------+\n",
      "| Catherine |    25 | Female   |\n",
      "+-----------+-------+----------+\n"
     ]
    }
   ],
   "source": [
    "from tabulate import tabulate\n",
    "\n",
    "data = [\n",
    "    {'Name': 'Anthony', 'Age' : 24, 'Gender': 'Male'},\n",
    "    {'Name': 'Brielle', 'Age' : 23, 'Gender': 'Female'},\n",
    "    {'Name': 'Catherine', 'Age' : 25, 'Gender': 'Female'}\n",
    "    ]\n",
    "\n",
    "print(tabulate(data, headers = 'keys', tablefmt = 'grid'))"
   ]
  },
  {
   "cell_type": "code",
   "execution_count": 32,
   "metadata": {},
   "outputs": [
    {
     "name": "stdout",
     "output_type": "stream",
     "text": [
      "+-----------+-------+----------+\n",
      "| Name      |   Age | Gender   |\n",
      "+===========+=======+==========+\n",
      "| Anthony   |    24 | Male     |\n",
      "+-----------+-------+----------+\n",
      "| Brielle   |    23 | Female   |\n",
      "+-----------+-------+----------+\n",
      "| Catherine |    25 | Female   |\n",
      "+-----------+-------+----------+\n"
     ]
    }
   ],
   "source": [
    "from tabulate import tabulate\n",
    "import pandas as pd\n",
    "\n",
    "data = {\n",
    "    'Name' : ['Anthony', 'Brielle', 'Catherine'],\n",
    "    'Age' : [24, 23, 25],\n",
    "    'Gender' : ['Male', 'Female', 'Female']\n",
    "    }\n",
    "\n",
    "df = pd.DataFrame(data)\n",
    "\n",
    "print(tabulate(df, headers = 'keys', tablefmt = 'grid', showindex = False))"
   ]
  },
  {
   "cell_type": "code",
   "execution_count": 33,
   "metadata": {},
   "outputs": [
    {
     "name": "stdout",
     "output_type": "stream",
     "text": [
      "---------  --  ------\n",
      "Anthony    24  Male\n",
      "Brielle    23  Female\n",
      "Catherine  25  Female\n",
      "---------  --  ------\n"
     ]
    }
   ],
   "source": [
    "print(tabulate(data))"
   ]
  },
  {
   "cell_type": "code",
   "execution_count": 34,
   "metadata": {},
   "outputs": [
    {
     "name": "stdout",
     "output_type": "stream",
     "text": [
      "---------  --  ------\n",
      "Anthony    24  Male\n",
      "Brielle    23  Female\n",
      "Catherine  25  Female\n",
      "---------  --  ------\n"
     ]
    }
   ],
   "source": [
    "print(tabulate(data, tablefmt = 'simple'))"
   ]
  },
  {
   "cell_type": "code",
   "execution_count": 35,
   "metadata": {},
   "outputs": [
    {
     "name": "stdout",
     "output_type": "stream",
     "text": [
      "+-----------+-------+----------+\n",
      "| Name      |   Age | Gender   |\n",
      "+===========+=======+==========+\n",
      "| Anthony   |    24 | Male     |\n",
      "+-----------+-------+----------+\n",
      "| Brielle   |    23 | Female   |\n",
      "+-----------+-------+----------+\n",
      "| Catherine |    25 | Female   |\n",
      "+-----------+-------+----------+\n"
     ]
    }
   ],
   "source": [
    "data = [\n",
    "    ['Name', 'Age', 'Gender'],\n",
    "    ['Anthony', 24, 'Male'],\n",
    "    ['Brielle', 23, 'Female'],\n",
    "    ['Catherine', 25, 'Female']\n",
    "    ]\n",
    "\n",
    "print(tabulate(data, headers = 'firstrow', tablefmt = 'grid'))"
   ]
  },
  {
   "cell_type": "code",
   "execution_count": 36,
   "metadata": {},
   "outputs": [
    {
     "name": "stdout",
     "output_type": "stream",
     "text": [
      "+-----------+-------+----------+\n",
      "| Name      |  Age  | Gender   |\n",
      "+===========+=======+==========+\n",
      "| Anthony   |  24   | Male     |\n",
      "+-----------+-------+----------+\n",
      "| Brielle   |  23   | Female   |\n",
      "+-----------+-------+----------+\n",
      "| Catherine |  25   | Female   |\n",
      "+-----------+-------+----------+\n"
     ]
    }
   ],
   "source": [
    "data = [\n",
    "    ['Anthony', 24, 'Male'],\n",
    "    ['Brielle', 23, 'Female'],\n",
    "    ['Catherine', 25, 'Female']\n",
    "    ]\n",
    "\n",
    "print(tabulate(data, headers = ['Name', 'Age', 'Gender'], tablefmt = 'grid', numalign = 'center'))"
   ]
  },
  {
   "cell_type": "code",
   "execution_count": 37,
   "metadata": {},
   "outputs": [
    {
     "name": "stdout",
     "output_type": "stream",
     "text": [
      "+-----------+-------+----------+\n",
      "|   Name    |   Age |  Gender  |\n",
      "+===========+=======+==========+\n",
      "|  Anthony  |    24 |   Male   |\n",
      "+-----------+-------+----------+\n",
      "|  Brielle  |    23 |  Female  |\n",
      "+-----------+-------+----------+\n",
      "| Catherine |    25 |  Female  |\n",
      "+-----------+-------+----------+\n"
     ]
    }
   ],
   "source": [
    "data = [\n",
    "    ['Anthony', 24, 'Male'],\n",
    "    ['Brielle', 23, 'Female'],\n",
    "    ['Catherine', 25, 'Female']\n",
    "    ]\n",
    "\n",
    "print(tabulate(data, headers = ['Name', 'Age', 'Gender'], tablefmt = 'grid', stralign = 'center'))"
   ]
  },
  {
   "cell_type": "code",
   "execution_count": 38,
   "metadata": {},
   "outputs": [
    {
     "name": "stdout",
     "output_type": "stream",
     "text": [
      "+----+-----------+-------+----------+\n",
      "|    | Name      |   Age | Gender   |\n",
      "+====+===========+=======+==========+\n",
      "|  0 | Anthony   |    24 | Male     |\n",
      "+----+-----------+-------+----------+\n",
      "|  1 | Brielle   |    23 | Female   |\n",
      "+----+-----------+-------+----------+\n",
      "|  2 | Catherine |    25 | Female   |\n",
      "+----+-----------+-------+----------+\n"
     ]
    }
   ],
   "source": [
    "data = [\n",
    "    ['Anthony', 24, 'Male'],\n",
    "    ['Brielle', 23, 'Female'],\n",
    "    ['Catherine', 25, 'Female']\n",
    "    ]\n",
    "\n",
    "print(tabulate(data, headers = ['Name', 'Age', 'Gender'], tablefmt = 'grid', showindex = True))"
   ]
  },
  {
   "cell_type": "code",
   "execution_count": 39,
   "metadata": {},
   "outputs": [
    {
     "name": "stdout",
     "output_type": "stream",
     "text": [
      "+-----------+-------+----------+\n",
      "| Name      |   Age | Gender   |\n",
      "+===========+=======+==========+\n",
      "| Anthony   |    24 | Male     |\n",
      "+-----------+-------+----------+\n",
      "| Brielle   |    23 | Female   |\n",
      "+-----------+-------+----------+\n",
      "| Catherine |    25 | Female   |\n",
      "+-----------+-------+----------+\n"
     ]
    }
   ],
   "source": [
    "data = {\n",
    "    'Name' : ['Anthony', 'Brielle', 'Catherine'],\n",
    "    'Age' : [24, 23, 25],\n",
    "    'Gender' : ['Male', 'Female', 'Female']\n",
    "    }\n",
    "\n",
    "df = pd.DataFrame(data)\n",
    "\n",
    "print(tabulate(df, headers = 'keys', tablefmt = 'grid', showindex = False))"
   ]
  },
  {
   "cell_type": "code",
   "execution_count": 40,
   "metadata": {},
   "outputs": [],
   "source": [
    "tabulate(data, headers = … , tablefmt = … , other_option…)"
   ]
  }
 ],
 "metadata": {
  "kernelspec": {
   "display_name": "Python 3",
   "language": "python",
   "name": "python3"
  },
  "language_info": {
   "codemirror_mode": {
    "name": "ipython",
    "version": 3
   },
   "file_extension": ".py",
   "mimetype": "text/x-python",
   "name": "python",
   "nbconvert_exporter": "python",
   "pygments_lexer": "ipython3",
   "version": "3.11.0"
  }
 },
 "nbformat": 4,
 "nbformat_minor": 2
}
