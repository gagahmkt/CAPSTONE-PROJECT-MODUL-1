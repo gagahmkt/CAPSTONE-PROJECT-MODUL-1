{
 "cells": [
  {
   "cell_type": "code",
   "execution_count": 25,
   "metadata": {},
   "outputs": [
    {
     "name": "stdout",
     "output_type": "stream",
     "text": [
      "+-----------+-------+----------+\n",
      "| Name      |   Age | Gender   |\n",
      "+===========+=======+==========+\n",
      "| Anthony   |    24 | Male     |\n",
      "+-----------+-------+----------+\n",
      "| Brielle   |    23 | Female   |\n",
      "+-----------+-------+----------+\n",
      "| Catherine |    25 | Female   |\n",
      "+-----------+-------+----------+\n"
     ]
    }
   ],
   "source": [
    "from tabulate import tabulate\n",
    "\n",
    "data = [\n",
    "    ['Anthony', 24, 'Male'],\n",
    "    ['Brielle', 23, 'Female'],\n",
    "    ['Catherine', 25, 'Female']\n",
    "    ]\n",
    "\n",
    "print(tabulate(data, headers = ['Name', 'Age', 'Gender'], tablefmt = 'grid'))"
   ]
  },
  {
   "cell_type": "code",
   "execution_count": null,
   "metadata": {},
   "outputs": [],
   "source": []
  },
  {
   "cell_type": "code",
   "execution_count": 13,
   "metadata": {},
   "outputs": [
    {
     "name": "stdout",
     "output_type": "stream",
     "text": [
      "---------------------------------------------------\n",
      "|No.\t |Name \t\t |Age \t\t |Gender  |\n",
      "---------------------------------------------------\n",
      "|1\t |Alexandra\t |24\t\t |Female  |\n",
      "|2\t |Brielle\t |23\t\t |Female  |\n",
      "|3\t |Catherine\t |25\t\t |Female  |\n"
     ]
    }
   ],
   "source": [
    "from tabulate import tabulate\n",
    "\n",
    "data = [\n",
    "    ['Alexandra', 24, 'Female'],\n",
    "    ['Brielle', 23, 'Female'],\n",
    "    ['Catherine', 25, 'Female']\n",
    "]\n",
    "\n",
    "print('---------------------------------------------------')\n",
    "print(f'|No.\\t |Name \\t\\t |Age \\t\\t |Gender  |')\n",
    "print('---------------------------------------------------')\n",
    "for i in data:\n",
    "     print(f'|{data.index(i)+1}\\t |{i[0]}\\t |{i[1]}\\t\\t |{i[2]}  |')"
   ]
  },
  {
   "cell_type": "code",
   "execution_count": 18,
   "metadata": {},
   "outputs": [
    {
     "name": "stdout",
     "output_type": "stream",
     "text": [
      "+-----------+-------+----------+\n",
      "| Name      |  Age  | Gender   |\n",
      "+===========+=======+==========+\n",
      "| Anthony   |  24   | Male     |\n",
      "+-----------+-------+----------+\n",
      "| Brielle   |  23   | Female   |\n",
      "+-----------+-------+----------+\n",
      "| Catherine |  25   | Female   |\n",
      "+-----------+-------+----------+\n"
     ]
    }
   ],
   "source": [
    "# First row\n",
    "from tabulate import tabulate\n",
    "\n",
    "data = [\n",
    "    ['Name', 'Age', 'Gender'],\n",
    "    ['Anthony', 24, 'Male'],\n",
    "    ['Brielle', 23, 'Female'],\n",
    "    ['Catherine', 25, 'Female']\n",
    "    ]\n",
    "\n",
    "print(tabulate(data, headers = 'firstrow', tablefmt = 'grid', numalign= 'center'))"
   ]
  },
  {
   "cell_type": "code",
   "execution_count": 26,
   "metadata": {},
   "outputs": [
    {
     "name": "stdout",
     "output_type": "stream",
     "text": [
      "+-----------+-------+----------+\n",
      "| Name      |   Age | Gender   |\n",
      "+===========+=======+==========+\n",
      "| Anthony   |    24 | Male     |\n",
      "+-----------+-------+----------+\n",
      "| Brielle   |    23 | Female   |\n",
      "+-----------+-------+----------+\n",
      "| Catherine |    25 | Female   |\n",
      "+-----------+-------+----------+\n"
     ]
    }
   ],
   "source": [
    "from tabulate import tabulate\n",
    "\n",
    "data = [\n",
    "    {'Name': 'Anthony', 'Age' : 24, 'Gender': 'Male'},\n",
    "    {'Name': 'Brielle', 'Age' : 23, 'Gender': 'Female'},\n",
    "    {'Name': 'Catherine', 'Age' : 25, 'Gender': 'Female'}\n",
    "    ]\n",
    "\n",
    "print(tabulate(data, headers = 'keys', tablefmt = 'grid'))"
   ]
  },
  {
   "cell_type": "code",
   "execution_count": 23,
   "metadata": {},
   "outputs": [
    {
     "name": "stdout",
     "output_type": "stream",
     "text": [
      "+-----------+-------+----------+\n",
      "| Name      |   Age | Gender   |\n",
      "+===========+=======+==========+\n",
      "| Anthony   |    24 | Male     |\n",
      "+-----------+-------+----------+\n",
      "| Brielle   |    23 | Female   |\n",
      "+-----------+-------+----------+\n",
      "| Catherine |    25 | Female   |\n",
      "+-----------+-------+----------+\n"
     ]
    }
   ],
   "source": [
    "from tabulate import tabulate\n",
    "import pandas as pd\n",
    "\n",
    "data = {\n",
    "    'Name' : ['Anthony', 'Brielle', 'Catherine'],\n",
    "    'Age' : [24, 23, 25],\n",
    "    'Gender' : ['Male', 'Female', 'Female']\n",
    "    }\n",
    "\n",
    "df = pd.DataFrame(data)\n",
    "\n",
    "print(tabulate(df, headers = 'keys', tablefmt = 'grid', showindex = False))"
   ]
  },
  {
   "cell_type": "code",
   "execution_count": null,
   "metadata": {},
   "outputs": [],
   "source": []
  }
 ],
 "metadata": {
  "kernelspec": {
   "display_name": "Python 3",
   "language": "python",
   "name": "python3"
  },
  "language_info": {
   "codemirror_mode": {
    "name": "ipython",
    "version": 3
   },
   "file_extension": ".py",
   "mimetype": "text/x-python",
   "name": "python",
   "nbconvert_exporter": "python",
   "pygments_lexer": "ipython3",
   "version": "3.11.0"
  }
 },
 "nbformat": 4,
 "nbformat_minor": 2
}
